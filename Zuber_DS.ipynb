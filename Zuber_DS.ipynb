{
 "cells": [
  {
   "cell_type": "markdown",
   "metadata": {},
   "source": [
    "\n",
    "¡Hola!\n",
    "\n",
    "Mi nombre es Tonatiuh Cruz. Me complace revisar tu proyecto hoy.\n",
    "\n",
    "Al identificar cualquier error inicialmente, simplemente los destacaré. Te animo a localizar y abordar los problemas de forma independiente como parte de tu preparación para un rol como data-scientist. En un entorno profesional, tu líder de equipo seguiría un enfoque similar. Si encuentras la tarea desafiante, proporcionaré una pista más específica en la próxima iteración.\n",
    "\n",
    "Encontrarás mis comentarios a continuación - **por favor no los muevas, modifiques o elimines**.\n",
    "\n",
    "Puedes encontrar mis comentarios en cajas verdes, amarillas o rojas como esta:\n",
    "\n",
    "<div class=\"alert alert-block alert-success\">\n",
    "<b>Comentario del revisor</b> <a class=\"tocSkip\"></a>\n",
    "\n",
    "Éxito. Todo está hecho correctamente.\n",
    "</div>\n",
    "\n",
    "<div class=\"alert alert-block alert-warning\">\n",
    "<b>Comentario del revisor</b> <a class=\"tocSkip\"></a>\n",
    "\n",
    "Observaciones. Algunas recomendaciones.\n",
    "</div>\n",
    "\n",
    "<div class=\"alert alert-block alert-danger\">\n",
    "<b>Comentario del revisor</b> <a class=\"tocSkip\"></a>\n",
    "\n",
    "Necesita corrección. El bloque requiere algunas correcciones. El trabajo no puede ser aceptado con comentarios en rojo.\n",
    "</div>\n",
    "\n",
    "Puedes responderme utilizando esto:\n",
    "\n",
    "<div class=\"alert alert-block alert-info\">\n",
    "<b>Respuesta del estudiante.</b> <a class=\"tocSkip\"></a>"
   ]
  },
  {
   "cell_type": "markdown",
   "metadata": {},
   "source": [
    "<div class=\"alert alert-block alert-warning\">\n",
    "\n",
    "<b>Comentario del revisor</b> <a class=\"tocSkip\"></a>\n",
    "\n",
    "\n",
    "Diego, cuando hacemos análisis de datos es muy útil escribir una introducción al proyecto donde se especifiquen claramente los objetivos y se explique el propósito del mismo. Es esencial hacer esto para establecer las bases del proyecto y aclarar lo que buscamos alcanzar. Con la introducción, queda de manera clarar el análisis que desarrollaremos en el proyecto y cómo lo pretendemos abordar.</div>"
   ]
  },
  {
   "cell_type": "markdown",
   "metadata": {},
   "source": [
    "En este analisis buscaremos analizar si el tiempo de traslado hacie el aeropuerto internacional de O'Hare desde Loop los sábados lluviosos es más tardado que cuando hay buen clima. Igualmente comprobaremos cuales son los 10 vecindarios a dodne más piden viajes y las compañias de taxi más usadas"
   ]
  },
  {
   "cell_type": "code",
   "execution_count": 1,
   "metadata": {},
   "outputs": [],
   "source": [
    "import pandas as pd"
   ]
  },
  {
   "cell_type": "code",
   "execution_count": 2,
   "metadata": {},
   "outputs": [],
   "source": [
    "#Recuperando los datos del CSV\n",
    "dataset_01 = pd.read_csv('/datasets/project_sql_result_01.csv')\n",
    "dataset_04 = pd.read_csv('/datasets/project_sql_result_04.csv')\n",
    "dataset_07 = pd.read_csv('/datasets/project_sql_result_07.csv')"
   ]
  },
  {
   "cell_type": "markdown",
   "metadata": {},
   "source": [
    "<div class=\"alert alert-block alert-warning\">\n",
    "\n",
    "<b>Comentario del revisor</b> <a class=\"tocSkip\"></a>\n",
    "\n",
    "Recuerda que como buena prática es recomendable cargar todas las bases de datos en una misma celda. Es por ello que te recomiendo cargar la base faltante en esta misma celda..</div>\n",
    "\n"
   ]
  },
  {
   "cell_type": "markdown",
   "metadata": {},
   "source": [
    "<div class=\"alert alert-block alert-success\">\n",
    "<b>Comentario del revisor</b> <a class=\"tocSkip\"></a>\n",
    "\n",
    "Gran trabajo con los ajustes!\n",
    "</div>"
   ]
  },
  {
   "cell_type": "code",
   "execution_count": 3,
   "metadata": {},
   "outputs": [
    {
     "name": "stdout",
     "output_type": "stream",
     "text": [
      "                      company_name  trips_amount\n",
      "0                        Flash Cab         19558\n",
      "1        Taxi Affiliation Services         11422\n",
      "2                Medallion Leasing         10367\n",
      "3                       Yellow Cab          9888\n",
      "4  Taxi Affiliation Service Yellow          9299\n"
     ]
    }
   ],
   "source": [
    "#Imprimiendo las primeras filas del dataset_01\n",
    "print(dataset_01.head())"
   ]
  },
  {
   "cell_type": "code",
   "execution_count": 4,
   "metadata": {},
   "outputs": [
    {
     "name": "stdout",
     "output_type": "stream",
     "text": [
      "<class 'pandas.core.frame.DataFrame'>\n",
      "RangeIndex: 64 entries, 0 to 63\n",
      "Data columns (total 2 columns):\n",
      " #   Column        Non-Null Count  Dtype \n",
      "---  ------        --------------  ----- \n",
      " 0   company_name  64 non-null     object\n",
      " 1   trips_amount  64 non-null     int64 \n",
      "dtypes: int64(1), object(1)\n",
      "memory usage: 1.1+ KB\n"
     ]
    }
   ],
   "source": [
    "#Obteniendo la información del dataset_01\n",
    "dataset_01.info()"
   ]
  },
  {
   "cell_type": "code",
   "execution_count": 5,
   "metadata": {},
   "outputs": [
    {
     "name": "stdout",
     "output_type": "stream",
     "text": [
      "  dropoff_location_name  average_trips\n",
      "0                  Loop   10727.466667\n",
      "1           River North    9523.666667\n",
      "2         Streeterville    6664.666667\n",
      "3             West Loop    5163.666667\n",
      "4                O'Hare    2546.900000\n"
     ]
    }
   ],
   "source": [
    "#Imrpimiendo las primeras filas del dataset_04\n",
    "print(dataset_04.head())"
   ]
  },
  {
   "cell_type": "code",
   "execution_count": 6,
   "metadata": {},
   "outputs": [
    {
     "name": "stdout",
     "output_type": "stream",
     "text": [
      "<class 'pandas.core.frame.DataFrame'>\n",
      "RangeIndex: 94 entries, 0 to 93\n",
      "Data columns (total 2 columns):\n",
      " #   Column                 Non-Null Count  Dtype  \n",
      "---  ------                 --------------  -----  \n",
      " 0   dropoff_location_name  94 non-null     object \n",
      " 1   average_trips          94 non-null     float64\n",
      "dtypes: float64(1), object(1)\n",
      "memory usage: 1.6+ KB\n"
     ]
    }
   ],
   "source": [
    "#Obteniendo la información del dataset_04\n",
    "dataset_04.info()"
   ]
  },
  {
   "cell_type": "code",
   "execution_count": 23,
   "metadata": {},
   "outputs": [
    {
     "data": {
      "text/plain": [
       "0"
      ]
     },
     "execution_count": 23,
     "metadata": {},
     "output_type": "execute_result"
    }
   ],
   "source": [
    "#buscar duplciados datasets\n",
    "dataset_01.duplicated().sum()"
   ]
  },
  {
   "cell_type": "code",
   "execution_count": 22,
   "metadata": {},
   "outputs": [
    {
     "data": {
      "text/plain": [
       "0"
      ]
     },
     "execution_count": 22,
     "metadata": {},
     "output_type": "execute_result"
    }
   ],
   "source": [
    "dataset_04.duplicated().sum()"
   ]
  },
  {
   "cell_type": "code",
   "execution_count": 21,
   "metadata": {},
   "outputs": [
    {
     "data": {
      "text/plain": [
       "197"
      ]
     },
     "execution_count": 21,
     "metadata": {},
     "output_type": "execute_result"
    }
   ],
   "source": [
    "dataset_07.duplicated().sum()"
   ]
  },
  {
   "cell_type": "code",
   "execution_count": 33,
   "metadata": {},
   "outputs": [],
   "source": [
    "dataset_07_drop_duplicates = dataset_07.drop_duplicates()\n"
   ]
  },
  {
   "cell_type": "code",
   "execution_count": 34,
   "metadata": {},
   "outputs": [
    {
     "data": {
      "text/plain": [
       "0"
      ]
     },
     "execution_count": 34,
     "metadata": {},
     "output_type": "execute_result"
    }
   ],
   "source": [
    "dataset_07_drop_duplicates.duplicated().sum()"
   ]
  },
  {
   "cell_type": "markdown",
   "metadata": {},
   "source": [
    "<div class=\"alert alert-block alert-danger\">\n",
    "\n",
    "<b>Comentario del revisor</b> <a class=\"tocSkip\"></a>\n",
    "\n",
    "Para estos análisis iniciales te recomiendo verificar si contamos con registros duplicados</div>\n",
    "\n"
   ]
  },
  {
   "cell_type": "markdown",
   "metadata": {},
   "source": [
    "<div class=\"alert alert-block alert-success\">\n",
    "<b>Comentario del revisor</b> <a class=\"tocSkip\"></a>\n",
    "\n",
    "Gran trabajo con los ajustes!\n",
    "</div>"
   ]
  },
  {
   "cell_type": "code",
   "execution_count": 8,
   "metadata": {},
   "outputs": [
    {
     "data": {
      "text/html": [
       "<div>\n",
       "<style scoped>\n",
       "    .dataframe tbody tr th:only-of-type {\n",
       "        vertical-align: middle;\n",
       "    }\n",
       "\n",
       "    .dataframe tbody tr th {\n",
       "        vertical-align: top;\n",
       "    }\n",
       "\n",
       "    .dataframe thead th {\n",
       "        text-align: right;\n",
       "    }\n",
       "</style>\n",
       "<table border=\"1\" class=\"dataframe\">\n",
       "  <thead>\n",
       "    <tr style=\"text-align: right;\">\n",
       "      <th></th>\n",
       "      <th>company_name</th>\n",
       "      <th>trips_amount</th>\n",
       "    </tr>\n",
       "  </thead>\n",
       "  <tbody>\n",
       "    <tr>\n",
       "      <th>0</th>\n",
       "      <td>Flash Cab</td>\n",
       "      <td>19558</td>\n",
       "    </tr>\n",
       "    <tr>\n",
       "      <th>1</th>\n",
       "      <td>Taxi Affiliation Services</td>\n",
       "      <td>11422</td>\n",
       "    </tr>\n",
       "    <tr>\n",
       "      <th>2</th>\n",
       "      <td>Medallion Leasing</td>\n",
       "      <td>10367</td>\n",
       "    </tr>\n",
       "    <tr>\n",
       "      <th>3</th>\n",
       "      <td>Yellow Cab</td>\n",
       "      <td>9888</td>\n",
       "    </tr>\n",
       "    <tr>\n",
       "      <th>4</th>\n",
       "      <td>Taxi Affiliation Service Yellow</td>\n",
       "      <td>9299</td>\n",
       "    </tr>\n",
       "    <tr>\n",
       "      <th>5</th>\n",
       "      <td>Chicago Carriage Cab Corp</td>\n",
       "      <td>9181</td>\n",
       "    </tr>\n",
       "    <tr>\n",
       "      <th>6</th>\n",
       "      <td>City Service</td>\n",
       "      <td>8448</td>\n",
       "    </tr>\n",
       "    <tr>\n",
       "      <th>7</th>\n",
       "      <td>Sun Taxi</td>\n",
       "      <td>7701</td>\n",
       "    </tr>\n",
       "    <tr>\n",
       "      <th>8</th>\n",
       "      <td>Star North Management LLC</td>\n",
       "      <td>7455</td>\n",
       "    </tr>\n",
       "    <tr>\n",
       "      <th>9</th>\n",
       "      <td>Blue Ribbon Taxi Association Inc.</td>\n",
       "      <td>5953</td>\n",
       "    </tr>\n",
       "  </tbody>\n",
       "</table>\n",
       "</div>"
      ],
      "text/plain": [
       "                        company_name  trips_amount\n",
       "0                          Flash Cab         19558\n",
       "1          Taxi Affiliation Services         11422\n",
       "2                  Medallion Leasing         10367\n",
       "3                         Yellow Cab          9888\n",
       "4    Taxi Affiliation Service Yellow          9299\n",
       "5          Chicago Carriage Cab Corp          9181\n",
       "6                       City Service          8448\n",
       "7                           Sun Taxi          7701\n",
       "8          Star North Management LLC          7455\n",
       "9  Blue Ribbon Taxi Association Inc.          5953"
      ]
     },
     "execution_count": 8,
     "metadata": {},
     "output_type": "execute_result"
    }
   ],
   "source": [
    "#Empresas de taxis y números de viaje\n",
    "trips_per_company = dataset_01.sort_values(by='trips_amount', ascending=False).head(10)\n",
    "\n",
    "trips_per_company"
   ]
  },
  {
   "cell_type": "code",
   "execution_count": 9,
   "metadata": {},
   "outputs": [
    {
     "data": {
      "text/html": [
       "<div>\n",
       "<style scoped>\n",
       "    .dataframe tbody tr th:only-of-type {\n",
       "        vertical-align: middle;\n",
       "    }\n",
       "\n",
       "    .dataframe tbody tr th {\n",
       "        vertical-align: top;\n",
       "    }\n",
       "\n",
       "    .dataframe thead th {\n",
       "        text-align: right;\n",
       "    }\n",
       "</style>\n",
       "<table border=\"1\" class=\"dataframe\">\n",
       "  <thead>\n",
       "    <tr style=\"text-align: right;\">\n",
       "      <th></th>\n",
       "      <th>dropoff_location_name</th>\n",
       "      <th>average_trips</th>\n",
       "    </tr>\n",
       "  </thead>\n",
       "  <tbody>\n",
       "    <tr>\n",
       "      <th>0</th>\n",
       "      <td>Loop</td>\n",
       "      <td>10727.466667</td>\n",
       "    </tr>\n",
       "    <tr>\n",
       "      <th>1</th>\n",
       "      <td>River North</td>\n",
       "      <td>9523.666667</td>\n",
       "    </tr>\n",
       "    <tr>\n",
       "      <th>2</th>\n",
       "      <td>Streeterville</td>\n",
       "      <td>6664.666667</td>\n",
       "    </tr>\n",
       "    <tr>\n",
       "      <th>3</th>\n",
       "      <td>West Loop</td>\n",
       "      <td>5163.666667</td>\n",
       "    </tr>\n",
       "    <tr>\n",
       "      <th>4</th>\n",
       "      <td>O'Hare</td>\n",
       "      <td>2546.900000</td>\n",
       "    </tr>\n",
       "    <tr>\n",
       "      <th>5</th>\n",
       "      <td>Lake View</td>\n",
       "      <td>2420.966667</td>\n",
       "    </tr>\n",
       "    <tr>\n",
       "      <th>6</th>\n",
       "      <td>Grant Park</td>\n",
       "      <td>2068.533333</td>\n",
       "    </tr>\n",
       "    <tr>\n",
       "      <th>7</th>\n",
       "      <td>Museum Campus</td>\n",
       "      <td>1510.000000</td>\n",
       "    </tr>\n",
       "    <tr>\n",
       "      <th>8</th>\n",
       "      <td>Gold Coast</td>\n",
       "      <td>1364.233333</td>\n",
       "    </tr>\n",
       "    <tr>\n",
       "      <th>9</th>\n",
       "      <td>Sheffield &amp; DePaul</td>\n",
       "      <td>1259.766667</td>\n",
       "    </tr>\n",
       "  </tbody>\n",
       "</table>\n",
       "</div>"
      ],
      "text/plain": [
       "  dropoff_location_name  average_trips\n",
       "0                  Loop   10727.466667\n",
       "1           River North    9523.666667\n",
       "2         Streeterville    6664.666667\n",
       "3             West Loop    5163.666667\n",
       "4                O'Hare    2546.900000\n",
       "5             Lake View    2420.966667\n",
       "6            Grant Park    2068.533333\n",
       "7         Museum Campus    1510.000000\n",
       "8            Gold Coast    1364.233333\n",
       "9    Sheffield & DePaul    1259.766667"
      ]
     },
     "execution_count": 9,
     "metadata": {},
     "output_type": "execute_result"
    }
   ],
   "source": [
    "# Identificar los 10 principales barrios en términos de finalización del recorrido\n",
    "top_10_neighborhoods = dataset_04.sort_values(by='average_trips', ascending=False).head(10)\n",
    "\n",
    "top_10_neighborhoods"
   ]
  },
  {
   "cell_type": "code",
   "execution_count": 10,
   "metadata": {},
   "outputs": [
    {
     "data": {
      "image/png": "[encoded data removed]",
      "text/plain": [
       "<Figure size 1000x600 with 1 Axes>"
      ]
     },
     "metadata": {},
     "output_type": "display_data"
    }
   ],
   "source": [
    "import matplotlib.pyplot as plt\n",
    "\n",
    "# Crear un gráfico de barras para las 10 empresas por número de viajes\n",
    "plt.figure(figsize=(10, 6))\n",
    "plt.barh(trips_per_company['company_name'], trips_per_company['trips_amount'], color='skyblue')\n",
    "plt.xlabel('Trips amount')\n",
    "plt.ylabel('Company name')\n",
    "plt.title('Top 10 Taxi most used')\n",
    "plt.gca().invert_yaxis()  # Invertir el eje y para que el barrio con más viajes esté arriba\n",
    "plt.show()"
   ]
  },
  {
   "cell_type": "markdown",
   "metadata": {},
   "source": [
    "<div class=\"alert alert-block alert-danger\">\n",
    "\n",
    "<b>Comentario del revisor</b> <a class=\"tocSkip\"></a>\n",
    "\n",
    "Muy buen trabajo con el desarrollo de la gráfica para visualizar los resultados. Solamente dado que al cliente le interesa el top 10 de las principales empresas con número de viajes, te recomiendo complementar este análisis con una gráfica solamente mostrando el top 10.</div>"
   ]
  },
  {
   "cell_type": "markdown",
   "metadata": {},
   "source": [
    "<div class=\"alert alert-block alert-success\">\n",
    "<b>Comentario del revisor</b> <a class=\"tocSkip\"></a>\n",
    "\n",
    "Gran trabajo con los ajustes!\n",
    "</div>"
   ]
  },
  {
   "cell_type": "markdown",
   "metadata": {},
   "source": [
    "Flash Cab es por mucho la empresa con mayor número de viajes en comparación con las demás"
   ]
  },
  {
   "cell_type": "code",
   "execution_count": 11,
   "metadata": {},
   "outputs": [
    {
     "data": {
      "image/png": "[encoded data removed]",
      "text/plain": [
       "<Figure size 1000x600 with 1 Axes>"
      ]
     },
     "metadata": {},
     "output_type": "display_data"
    }
   ],
   "source": [
    "\n",
    "# Crear un gráfico de barras para los 10 barrios principales por número de viajes promedio\n",
    "plt.figure(figsize=(10, 6))\n",
    "plt.barh(top_10_neighborhoods['dropoff_location_name'], top_10_neighborhoods['average_trips'], color='skyblue')\n",
    "plt.xlabel('Average Number of Trips')\n",
    "plt.ylabel('Neighborhood')\n",
    "plt.title('Top 10 Neighborhoods by Average Number of Trips in November 2017')\n",
    "plt.gca().invert_yaxis()  # Invertir el eje y para que el barrio con más viajes esté arriba\n",
    "plt.show()"
   ]
  },
  {
   "cell_type": "markdown",
   "metadata": {},
   "source": [
    "<div class=\"alert alert-block alert-success\">\n",
    "\n",
    "<b>Comentario del revisor</b> <a class=\"tocSkip\"></a>\n",
    "\n",
    "Excelente trabajo con el desarrollo de este análisis y lo complementaste con una gráfica.\n",
    "    </div>"
   ]
  },
  {
   "cell_type": "markdown",
   "metadata": {},
   "source": [
    "Conclusiones\n",
    "\n",
    "Loop y River North son los barrios con el mayor número promedio de finalizaciones de viajes ya que estas áreas son centros comerciales y de negocios en Chicago.\n",
    "Importancia de los centros de transporte:\n",
    "\n",
    "O'Hare aparece en el top 5, lo que refleja la importancia del aeropuerto internacional como un destino principal para los taxis. Esto indica que muchos viajeros optan por tomar taxis hacia o desde el aeropuerto.\n",
    "\n",
    "Lake View y Sheffield & DePaul son barrios residenciales populares que también aparecen en la lista. Estos barrios tienen una alta densidad de población."
   ]
  },
  {
   "cell_type": "code",
   "execution_count": 13,
   "metadata": {},
   "outputs": [
    {
     "name": "stdout",
     "output_type": "stream",
     "text": [
      "                 start_ts weather_conditions  duration_seconds\n",
      "773   2017-11-11 11:00:00               Good            2032.0\n",
      "449   2017-11-18 10:00:00                Bad            1560.0\n",
      "215   2017-11-11 09:00:00               Good            1260.0\n",
      "733   2017-11-11 10:00:00               Good            1466.0\n",
      "1013  2017-11-11 15:00:00               Good            2200.0\n",
      "625   2017-11-04 16:00:00                Bad            3540.0\n",
      "588   2017-11-04 18:00:00                Bad            2580.0\n",
      "72    2017-11-04 14:00:00               Good            3084.0\n",
      "359   2017-11-18 16:00:00                Bad            2820.0\n",
      "303   2017-11-18 14:00:00               Good            3780.0\n"
     ]
    }
   ],
   "source": [
    "print(dataset_07.sample(10))"
   ]
  },
  {
   "cell_type": "code",
   "execution_count": 14,
   "metadata": {},
   "outputs": [
    {
     "name": "stdout",
     "output_type": "stream",
     "text": [
      "<class 'pandas.core.frame.DataFrame'>\n",
      "RangeIndex: 1068 entries, 0 to 1067\n",
      "Data columns (total 3 columns):\n",
      " #   Column              Non-Null Count  Dtype  \n",
      "---  ------              --------------  -----  \n",
      " 0   start_ts            1068 non-null   object \n",
      " 1   weather_conditions  1068 non-null   object \n",
      " 2   duration_seconds    1068 non-null   float64\n",
      "dtypes: float64(1), object(2)\n",
      "memory usage: 25.2+ KB\n"
     ]
    }
   ],
   "source": [
    "dataset_07.info()"
   ]
  },
  {
   "cell_type": "code",
   "execution_count": 44,
   "metadata": {},
   "outputs": [
    {
     "name": "stderr",
     "output_type": "stream",
     "text": [
      "/tmp/ipykernel_50/630324213.py:4: SettingWithCopyWarning: \n",
      "A value is trying to be set on a copy of a slice from a DataFrame.\n",
      "Try using .loc[row_indexer,col_indexer] = value instead\n",
      "\n",
      "See the caveats in the documentation: https://pandas.pydata.org/pandas-docs/stable/user_guide/indexing.html#returning-a-view-versus-a-copy\n",
      "  dataset_07_drop_duplicates['start_ts'] = pd.to_datetime(dataset_07_drop_duplicates['start_ts'])\n",
      "/tmp/ipykernel_50/630324213.py:5: SettingWithCopyWarning: \n",
      "A value is trying to be set on a copy of a slice from a DataFrame.\n",
      "Try using .loc[row_indexer,col_indexer] = value instead\n",
      "\n",
      "See the caveats in the documentation: https://pandas.pydata.org/pandas-docs/stable/user_guide/indexing.html#returning-a-view-versus-a-copy\n",
      "  dataset_07_drop_duplicates['day_of_week'] = dataset_07_drop_duplicates['start_ts'].dt.day_name()\n",
      "/tmp/ipykernel_50/630324213.py:6: SettingWithCopyWarning: \n",
      "A value is trying to be set on a copy of a slice from a DataFrame.\n",
      "Try using .loc[row_indexer,col_indexer] = value instead\n",
      "\n",
      "See the caveats in the documentation: https://pandas.pydata.org/pandas-docs/stable/user_guide/indexing.html#returning-a-view-versus-a-copy\n",
      "  dataset_07_drop_duplicates['is_saturday'] = dataset_07_drop_duplicates['day_of_week'] == 'Saturday'\n"
     ]
    },
    {
     "data": {
      "text/html": [
       "<div>\n",
       "<style scoped>\n",
       "    .dataframe tbody tr th:only-of-type {\n",
       "        vertical-align: middle;\n",
       "    }\n",
       "\n",
       "    .dataframe tbody tr th {\n",
       "        vertical-align: top;\n",
       "    }\n",
       "\n",
       "    .dataframe thead th {\n",
       "        text-align: right;\n",
       "    }\n",
       "</style>\n",
       "<table border=\"1\" class=\"dataframe\">\n",
       "  <thead>\n",
       "    <tr style=\"text-align: right;\">\n",
       "      <th></th>\n",
       "      <th>start_ts</th>\n",
       "      <th>weather_conditions</th>\n",
       "      <th>duration_seconds</th>\n",
       "      <th>day_of_week</th>\n",
       "      <th>is_saturday</th>\n",
       "    </tr>\n",
       "  </thead>\n",
       "  <tbody>\n",
       "    <tr>\n",
       "      <th>0</th>\n",
       "      <td>2017-11-25 16:00:00</td>\n",
       "      <td>Good</td>\n",
       "      <td>2410.0</td>\n",
       "      <td>Saturday</td>\n",
       "      <td>True</td>\n",
       "    </tr>\n",
       "    <tr>\n",
       "      <th>1</th>\n",
       "      <td>2017-11-25 14:00:00</td>\n",
       "      <td>Good</td>\n",
       "      <td>1920.0</td>\n",
       "      <td>Saturday</td>\n",
       "      <td>True</td>\n",
       "    </tr>\n",
       "    <tr>\n",
       "      <th>2</th>\n",
       "      <td>2017-11-25 12:00:00</td>\n",
       "      <td>Good</td>\n",
       "      <td>1543.0</td>\n",
       "      <td>Saturday</td>\n",
       "      <td>True</td>\n",
       "    </tr>\n",
       "    <tr>\n",
       "      <th>3</th>\n",
       "      <td>2017-11-04 10:00:00</td>\n",
       "      <td>Good</td>\n",
       "      <td>2512.0</td>\n",
       "      <td>Saturday</td>\n",
       "      <td>True</td>\n",
       "    </tr>\n",
       "    <tr>\n",
       "      <th>4</th>\n",
       "      <td>2017-11-11 07:00:00</td>\n",
       "      <td>Good</td>\n",
       "      <td>1440.0</td>\n",
       "      <td>Saturday</td>\n",
       "      <td>True</td>\n",
       "    </tr>\n",
       "    <tr>\n",
       "      <th>...</th>\n",
       "      <td>...</td>\n",
       "      <td>...</td>\n",
       "      <td>...</td>\n",
       "      <td>...</td>\n",
       "      <td>...</td>\n",
       "    </tr>\n",
       "    <tr>\n",
       "      <th>1060</th>\n",
       "      <td>2017-11-04 14:00:00</td>\n",
       "      <td>Good</td>\n",
       "      <td>2700.0</td>\n",
       "      <td>Saturday</td>\n",
       "      <td>True</td>\n",
       "    </tr>\n",
       "    <tr>\n",
       "      <th>1061</th>\n",
       "      <td>2017-11-18 16:00:00</td>\n",
       "      <td>Bad</td>\n",
       "      <td>2186.0</td>\n",
       "      <td>Saturday</td>\n",
       "      <td>True</td>\n",
       "    </tr>\n",
       "    <tr>\n",
       "      <th>1063</th>\n",
       "      <td>2017-11-25 11:00:00</td>\n",
       "      <td>Good</td>\n",
       "      <td>0.0</td>\n",
       "      <td>Saturday</td>\n",
       "      <td>True</td>\n",
       "    </tr>\n",
       "    <tr>\n",
       "      <th>1064</th>\n",
       "      <td>2017-11-11 10:00:00</td>\n",
       "      <td>Good</td>\n",
       "      <td>1318.0</td>\n",
       "      <td>Saturday</td>\n",
       "      <td>True</td>\n",
       "    </tr>\n",
       "    <tr>\n",
       "      <th>1067</th>\n",
       "      <td>2017-11-04 16:00:00</td>\n",
       "      <td>Bad</td>\n",
       "      <td>2834.0</td>\n",
       "      <td>Saturday</td>\n",
       "      <td>True</td>\n",
       "    </tr>\n",
       "  </tbody>\n",
       "</table>\n",
       "<p>871 rows × 5 columns</p>\n",
       "</div>"
      ],
      "text/plain": [
       "                start_ts weather_conditions  duration_seconds day_of_week  \\\n",
       "0    2017-11-25 16:00:00               Good            2410.0    Saturday   \n",
       "1    2017-11-25 14:00:00               Good            1920.0    Saturday   \n",
       "2    2017-11-25 12:00:00               Good            1543.0    Saturday   \n",
       "3    2017-11-04 10:00:00               Good            2512.0    Saturday   \n",
       "4    2017-11-11 07:00:00               Good            1440.0    Saturday   \n",
       "...                  ...                ...               ...         ...   \n",
       "1060 2017-11-04 14:00:00               Good            2700.0    Saturday   \n",
       "1061 2017-11-18 16:00:00                Bad            2186.0    Saturday   \n",
       "1063 2017-11-25 11:00:00               Good               0.0    Saturday   \n",
       "1064 2017-11-11 10:00:00               Good            1318.0    Saturday   \n",
       "1067 2017-11-04 16:00:00                Bad            2834.0    Saturday   \n",
       "\n",
       "      is_saturday  \n",
       "0            True  \n",
       "1            True  \n",
       "2            True  \n",
       "3            True  \n",
       "4            True  \n",
       "...           ...  \n",
       "1060         True  \n",
       "1061         True  \n",
       "1063         True  \n",
       "1064         True  \n",
       "1067         True  \n",
       "\n",
       "[871 rows x 5 columns]"
      ]
     },
     "execution_count": 44,
     "metadata": {},
     "output_type": "execute_result"
    }
   ],
   "source": [
    "from scipy.stats import ttest_ind, levene\n",
    "\n",
    "#Convertir el tiempo a formato datetime y extraer el día de la semana\n",
    "dataset_07_drop_duplicates['start_ts'] = pd.to_datetime(dataset_07_drop_duplicates['start_ts'])\n",
    "dataset_07_drop_duplicates['day_of_week'] = dataset_07_drop_duplicates['start_ts'].dt.day_name()\n",
    "dataset_07_drop_duplicates['is_saturday'] = dataset_07_drop_duplicates['day_of_week'] == 'Saturday'\n",
    "\n",
    "#Filtrar los datos para obtener solo los sábados\n",
    "saturday_data = dataset_07_drop_duplicates[dataset_07_drop_duplicates['is_saturday']]\n",
    "saturday_data"
   ]
  },
  {
   "cell_type": "code",
   "execution_count": 45,
   "metadata": {},
   "outputs": [],
   "source": [
    "# Filtrar los datos de sábados lluviosos y no lluviosos\n",
    "rainy_conditions = ['Bad']\n",
    "rainy_saturday_data = saturday_data[saturday_data['weather_conditions'].isin(rainy_conditions)]\n",
    "non_rainy_saturday_data = saturday_data[~saturday_data['weather_conditions'].isin(rainy_conditions)]\n"
   ]
  },
  {
   "cell_type": "code",
   "execution_count": 46,
   "metadata": {},
   "outputs": [
    {
     "name": "stdout",
     "output_type": "stream",
     "text": [
      "Estadístico t: 5.427957689754561\n",
      "Valor p: 7.397770692813658e-08\n",
      "Rechazamos la hipótesis nula: La duración promedio de los viajes cambia en los sábados con mal tiempo.\n"
     ]
    }
   ],
   "source": [
    "# Realizar la prueba t de muestras independientes\n",
    "rainy_durations = rainy_saturday_data['duration_seconds']\n",
    "non_rainy_durations = non_rainy_saturday_data['duration_seconds']\n",
    "\n",
    "levene_stat, levene_p_value = levene(rainy_durations, non_rainy_durations)\n",
    "\n",
    "# Determinar si las varianzas son iguales\n",
    "if levene_p_value > 0.05:\n",
    "    equal_var = True\n",
    "else:\n",
    "    equal_var = False\n",
    "\n",
    "# Realizar la prueba t de muestras independientes con base en el resultado de Levene\n",
    "t_stat, p_value = ttest_ind(rainy_durations, non_rainy_durations, equal_var=equal_var)\n",
    "\n",
    "# Resultados\n",
    "print(\"Estadístico t:\", t_stat)\n",
    "print(\"Valor p:\", p_value)\n",
    "\n",
    "# Escoger la hipótesis\n",
    "if p_value < 0.05:\n",
    "    print(\"Rechazamos la hipótesis nula: La duración promedio de los viajes cambia en los sábados con mal tiempo.\")\n",
    "else:\n",
    "    print(\"No rechazamos la hipótesis nula: No hay evidencia suficiente para afirmar que la duración promedio de los viajes cambia en los sábados con mal tiempo.\")\n",
    "\n"
   ]
  },
  {
   "cell_type": "markdown",
   "metadata": {},
   "source": [
    " <div class=\"alert alert-block alert-danger\">\n",
    "<b>Comentario revisor</b> <a class=\"tocSkip\"></a>\n",
    "\n",
    "Para esta prueba te recomiendo hacer una prueba de  Levene  para mostrar si las varianzas son iguales y agregarlo dentro de la función. Actualmente lo colocas como equal_var=False. Para esto, primero debes calcular las varianzas para cada uno de los días (lluvioso y no lluvioso) debes de hacer uso de la siguiente función: \n",
    "    \n",
    "    levene(rainy_saturday_trips['duration_seconds'], non_rainy_saturday_trips ['duration_seconds'])\n",
    "    \n",
    "Adoptaremos un nivel de significancia de 0.05; si el valor p resultante es mayor a 0.05, no podemos rechazar la hipótesis nula, y si es menor a 0.05, rechazamos la hipótesis nula, indicando que las varianzas no son iguales. \n",
    "    \n",
    "Solamente recuerda que la prueba de levene no es sustituto a la prueba de st.ttest_ind, más bien es complemento para saber que colocar dentro del elemento \"equal_var\".  Es por eso que para terminar la prueba debes de realizar la prueba de st.ttest_ind considernado el resultado de la prueba realizada de levene.  \n",
    "</div>"
   ]
  },
  {
   "cell_type": "markdown",
   "metadata": {},
   "source": [
    "<div class=\"alert alert-block alert-success\">\n",
    "<b>Comentario del revisor</b> <a class=\"tocSkip\"></a>\n",
    "\n",
    "Gran trabajo con los ajustes!\n",
    "</div>"
   ]
  },
  {
   "cell_type": "markdown",
   "metadata": {},
   "source": [
    "El planteamiento de las hipotésis nula fue con base a la duración promedio de los viajes desde el Loop hasta el Aeropuerto Internacional O'Hare no cambia en los sábados lluviosos.\n",
    "Esto significa que no hay una diferencia significativa en la duración promedio de los viajes entre los sábados lluviosos y los sábados no lluviosos.\n",
    "\n",
    "La hipotesis alternativa sería lo contrario es decir que la duración promedio de los viajes desde el Loop hasta el Aeropuerto Internacional O'Hare cambia en los sábados lluviosos.\n",
    "Aquí se postula que existe una diferencia significativa en la duración promedio de los viajes entre los sábados lluviosos y los no lluviosos. Si la hipótesis alternativa es cierta, entonces los sábados lluviosos afectan la duración del viaje.\n",
    "\n",
    "El criterio usado para probar las hipótesis fue una prueba t de muestras independientesya que una prueba t de muestras independientes compara las medias de dos grupos independientes, las duraciones de los viajes en sábados lluviosos y las duraciones en sábados no lluviosos. Queriamos comprobar si las medias de los dos son significativamente diferentes.\n",
    "\n",
    "\n",
    "\n",
    "\n",
    "\n",
    "\n"
   ]
  },
  {
   "cell_type": "markdown",
   "metadata": {},
   "source": [
    "<div class=\"alert alert-block alert-warning\">\n",
    "<b>Comentario revisor</b> <a class=\"tocSkip\"></a>\n",
    "\n",
    "En general, considero que realizaste un excelente trabajo con el proyecto. Lograste limpiar y organizar las bases de datos eficazmente. Además, tu análisis exploratorio fue exhaustivo, presentando resultados relevantes que serán muy útiles para la toma de decisiones. También, desarrollaste las pruebas de hipótesis de manera acertada. Sin embargo, siempre hay espacio para mejorar y quisiera señalar algunos aspectos que podrías considerar:\n",
    "\n",
    "\n",
    "* Realizar un análisis de duplicados\n",
    "    \n",
    "*  Realizar análisis complementarios eliminando los valores que parecen ser atípicos.    \n",
    "    \n",
    "*  Considerar desarrollar un análisis para comprobar los supuestos de la prueba de hipótesis (varianzas iguales)\n",
    "    \n",
    "*  Profundizar en los resultados intermedios y en la conclusión final.\n",
    "    \n",
    "</div>"
   ]
  },
  {
   "cell_type": "markdown",
   "metadata": {},
   "source": [
    "<div class=\"alert alert-block alert-success\">\n",
    "<b>Comentario del revisor</b> <a class=\"tocSkip\"></a>\n",
    "\n",
    "Gran trabajo con los ajustes! Que sigas disfrutando los siguientes cursos!\n",
    "</div>"
   ]
  }
 ],
 "metadata": {
  "ExecuteTimeLog": [
   {
    "duration": 463,
    "start_time": "2024-08-11T21:38:29.830Z"
   },
   {
    "duration": 1033,
    "start_time": "2024-08-11T21:40:16.568Z"
   },
   {
    "duration": 13,
    "start_time": "2024-08-11T21:41:30.062Z"
   },
   {
    "duration": 122,
    "start_time": "2024-08-11T21:41:47.918Z"
   },
   {
    "duration": 7,
    "start_time": "2024-08-11T21:43:36.277Z"
   },
   {
    "duration": 7,
    "start_time": "2024-08-11T21:43:57.240Z"
   },
   {
    "duration": 23,
    "start_time": "2024-08-11T21:45:11.826Z"
   },
   {
    "duration": 17,
    "start_time": "2024-08-11T21:46:23.904Z"
   },
   {
    "duration": 10,
    "start_time": "2024-08-11T21:46:48.998Z"
   },
   {
    "duration": 6,
    "start_time": "2024-08-11T21:47:09.750Z"
   },
   {
    "duration": 6,
    "start_time": "2024-08-11T21:47:27.748Z"
   },
   {
    "duration": 6,
    "start_time": "2024-08-11T21:48:32.343Z"
   },
   {
    "duration": 5,
    "start_time": "2024-08-11T21:48:36.318Z"
   },
   {
    "duration": 22,
    "start_time": "2024-08-11T21:49:03.544Z"
   },
   {
    "duration": 20,
    "start_time": "2024-08-11T21:49:14.000Z"
   },
   {
    "duration": 13,
    "start_time": "2024-08-11T21:49:26.476Z"
   },
   {
    "duration": 13,
    "start_time": "2024-08-11T21:49:53.536Z"
   },
   {
    "duration": 473,
    "start_time": "2024-08-13T23:42:34.534Z"
   },
   {
    "duration": 17,
    "start_time": "2024-08-13T23:42:35.010Z"
   },
   {
    "duration": 8,
    "start_time": "2024-08-13T23:42:35.030Z"
   },
   {
    "duration": 18,
    "start_time": "2024-08-13T23:42:35.042Z"
   },
   {
    "duration": 8,
    "start_time": "2024-08-13T23:42:35.066Z"
   },
   {
    "duration": 59,
    "start_time": "2024-08-13T23:42:35.077Z"
   },
   {
    "duration": 365,
    "start_time": "2024-08-13T23:42:35.139Z"
   },
   {
    "duration": 7,
    "start_time": "2024-08-13T23:43:31.841Z"
   },
   {
    "duration": 10,
    "start_time": "2024-08-13T23:43:50.924Z"
   },
   {
    "duration": 30,
    "start_time": "2024-08-13T23:45:21.716Z"
   },
   {
    "duration": 16,
    "start_time": "2024-08-13T23:45:53.000Z"
   },
   {
    "duration": 4057,
    "start_time": "2024-08-13T23:47:34.046Z"
   },
   {
    "duration": 311,
    "start_time": "2024-08-13T23:48:00.732Z"
   },
   {
    "duration": 266,
    "start_time": "2024-08-13T23:48:15.981Z"
   },
   {
    "duration": 47,
    "start_time": "2024-08-13T23:53:59.365Z"
   },
   {
    "duration": 13,
    "start_time": "2024-08-13T23:54:28.849Z"
   },
   {
    "duration": 10,
    "start_time": "2024-08-13T23:54:39.530Z"
   },
   {
    "duration": 14,
    "start_time": "2024-08-13T23:55:40.532Z"
   },
   {
    "duration": 852,
    "start_time": "2024-08-13T23:58:03.689Z"
   },
   {
    "duration": 1747,
    "start_time": "2024-08-13T23:58:16.722Z"
   },
   {
    "duration": 14,
    "start_time": "2024-08-13T23:58:37.287Z"
   },
   {
    "duration": 341,
    "start_time": "2024-08-13T23:58:47.262Z"
   },
   {
    "duration": 14,
    "start_time": "2024-08-14T00:08:07.542Z"
   },
   {
    "duration": 8,
    "start_time": "2024-08-14T00:08:10.986Z"
   },
   {
    "duration": 14,
    "start_time": "2024-08-14T00:09:55.012Z"
   },
   {
    "duration": 428,
    "start_time": "2024-08-15T14:09:25.499Z"
   },
   {
    "duration": 22,
    "start_time": "2024-08-15T14:09:25.930Z"
   },
   {
    "duration": 14,
    "start_time": "2024-08-15T14:09:25.956Z"
   },
   {
    "duration": 16,
    "start_time": "2024-08-15T14:09:25.973Z"
   },
   {
    "duration": 7,
    "start_time": "2024-08-15T14:09:25.994Z"
   },
   {
    "duration": 44,
    "start_time": "2024-08-15T14:09:26.004Z"
   },
   {
    "duration": 18,
    "start_time": "2024-08-15T14:09:26.051Z"
   },
   {
    "duration": 12,
    "start_time": "2024-08-15T14:09:26.072Z"
   },
   {
    "duration": 4693,
    "start_time": "2024-08-15T14:09:26.090Z"
   },
   {
    "duration": 268,
    "start_time": "2024-08-15T14:09:30.787Z"
   },
   {
    "duration": 15,
    "start_time": "2024-08-15T14:09:31.061Z"
   },
   {
    "duration": 7,
    "start_time": "2024-08-15T14:09:31.079Z"
   },
   {
    "duration": 18,
    "start_time": "2024-08-15T14:09:31.090Z"
   },
   {
    "duration": 857,
    "start_time": "2024-08-15T14:15:24.853Z"
   },
   {
    "duration": 12,
    "start_time": "2024-08-15T14:18:59.230Z"
   },
   {
    "duration": 13,
    "start_time": "2024-08-15T14:19:19.126Z"
   },
   {
    "duration": 13,
    "start_time": "2024-08-15T14:19:31.388Z"
   },
   {
    "duration": 13,
    "start_time": "2024-08-15T14:20:29.758Z"
   },
   {
    "duration": 26,
    "start_time": "2024-08-15T14:20:38.333Z"
   },
   {
    "duration": 8,
    "start_time": "2024-08-15T14:21:54.319Z"
   },
   {
    "duration": 11,
    "start_time": "2024-08-15T14:21:59.087Z"
   },
   {
    "duration": 9,
    "start_time": "2024-08-15T14:22:01.218Z"
   },
   {
    "duration": 8,
    "start_time": "2024-08-15T14:22:01.832Z"
   },
   {
    "duration": 9,
    "start_time": "2024-08-15T14:22:02.402Z"
   },
   {
    "duration": 9,
    "start_time": "2024-08-15T14:22:02.676Z"
   },
   {
    "duration": 9,
    "start_time": "2024-08-15T14:22:02.877Z"
   },
   {
    "duration": 9,
    "start_time": "2024-08-15T14:22:03.687Z"
   },
   {
    "duration": 7,
    "start_time": "2024-08-15T14:23:53.012Z"
   },
   {
    "duration": 23,
    "start_time": "2024-08-15T14:24:14.403Z"
   },
   {
    "duration": 7,
    "start_time": "2024-08-15T14:24:26.921Z"
   },
   {
    "duration": 7,
    "start_time": "2024-08-15T14:24:29.594Z"
   },
   {
    "duration": 8,
    "start_time": "2024-08-15T14:24:44.421Z"
   },
   {
    "duration": 9,
    "start_time": "2024-08-15T14:24:49.490Z"
   },
   {
    "duration": 327,
    "start_time": "2024-08-16T15:40:30.994Z"
   },
   {
    "duration": 439,
    "start_time": "2024-08-16T22:05:02.211Z"
   },
   {
    "duration": 28,
    "start_time": "2024-08-16T22:05:02.654Z"
   },
   {
    "duration": 10,
    "start_time": "2024-08-16T22:05:02.684Z"
   },
   {
    "duration": 16,
    "start_time": "2024-08-16T22:05:02.697Z"
   },
   {
    "duration": 9,
    "start_time": "2024-08-16T22:05:02.734Z"
   },
   {
    "duration": 14,
    "start_time": "2024-08-16T22:05:02.747Z"
   },
   {
    "duration": 3,
    "start_time": "2024-08-16T22:05:02.764Z"
   },
   {
    "duration": 64,
    "start_time": "2024-08-16T22:05:02.770Z"
   },
   {
    "duration": 13,
    "start_time": "2024-08-16T22:05:02.837Z"
   },
   {
    "duration": 4194,
    "start_time": "2024-08-16T22:05:02.852Z"
   },
   {
    "duration": 279,
    "start_time": "2024-08-16T22:05:07.050Z"
   },
   {
    "duration": 8,
    "start_time": "2024-08-16T22:05:07.336Z"
   },
   {
    "duration": 8,
    "start_time": "2024-08-16T22:05:07.347Z"
   },
   {
    "duration": 13,
    "start_time": "2024-08-16T22:05:07.361Z"
   },
   {
    "duration": 525,
    "start_time": "2024-08-16T22:05:07.378Z"
   },
   {
    "duration": 418,
    "start_time": "2024-08-16T22:05:07.907Z"
   },
   {
    "duration": 0,
    "start_time": "2024-08-16T22:05:08.333Z"
   },
   {
    "duration": 10,
    "start_time": "2024-08-16T22:06:56.641Z"
   },
   {
    "duration": 10,
    "start_time": "2024-08-16T22:07:09.332Z"
   },
   {
    "duration": 27,
    "start_time": "2024-08-16T22:07:22.685Z"
   },
   {
    "duration": 11,
    "start_time": "2024-08-16T22:07:31.025Z"
   },
   {
    "duration": 9,
    "start_time": "2024-08-16T22:08:02.617Z"
   },
   {
    "duration": 7,
    "start_time": "2024-08-16T22:08:09.866Z"
   },
   {
    "duration": 7,
    "start_time": "2024-08-16T22:08:15.084Z"
   },
   {
    "duration": 6,
    "start_time": "2024-08-16T22:09:59.407Z"
   },
   {
    "duration": 9,
    "start_time": "2024-08-16T22:10:26.297Z"
   },
   {
    "duration": 28,
    "start_time": "2024-08-16T22:13:20.628Z"
   },
   {
    "duration": 28,
    "start_time": "2024-08-16T22:13:47.877Z"
   },
   {
    "duration": 29,
    "start_time": "2024-08-16T22:19:43.839Z"
   },
   {
    "duration": 21,
    "start_time": "2024-08-16T22:20:51.150Z"
   },
   {
    "duration": 8,
    "start_time": "2024-08-16T22:21:02.777Z"
   },
   {
    "duration": 22,
    "start_time": "2024-08-16T22:21:09.327Z"
   },
   {
    "duration": 10,
    "start_time": "2024-08-16T22:21:13.592Z"
   },
   {
    "duration": 7,
    "start_time": "2024-08-16T22:21:51.479Z"
   },
   {
    "duration": 9,
    "start_time": "2024-08-16T22:22:02.016Z"
   },
   {
    "duration": 27,
    "start_time": "2024-08-16T22:22:26.342Z"
   },
   {
    "duration": 28,
    "start_time": "2024-08-16T22:22:45.297Z"
   },
   {
    "duration": 7,
    "start_time": "2024-08-16T22:25:08.341Z"
   },
   {
    "duration": 9,
    "start_time": "2024-08-16T22:25:11.010Z"
   },
   {
    "duration": 33,
    "start_time": "2024-08-16T22:28:19.137Z"
   },
   {
    "duration": 7,
    "start_time": "2024-08-16T22:28:52.531Z"
   },
   {
    "duration": 8,
    "start_time": "2024-08-16T22:29:16.866Z"
   },
   {
    "duration": 7,
    "start_time": "2024-08-16T22:29:27.746Z"
   },
   {
    "duration": 34,
    "start_time": "2024-08-16T22:33:37.868Z"
   },
   {
    "duration": 26,
    "start_time": "2024-08-16T22:34:24.336Z"
   },
   {
    "duration": 6,
    "start_time": "2024-08-16T22:34:28.690Z"
   },
   {
    "duration": 11,
    "start_time": "2024-08-16T22:34:30.220Z"
   }
  ],
  "kernelspec": {
   "display_name": "Python 3 (ipykernel)",
   "language": "python",
   "name": "python3"
  },
  "language_info": {
   "codemirror_mode": {
    "name": "ipython",
    "version": 3
   },
   "file_extension": ".py",
   "mimetype": "text/x-python",
   "name": "python",
   "nbconvert_exporter": "python",
   "pygments_lexer": "ipython3",
   "version": "3.9.19"
  },
  "toc": {
   "base_numbering": 1,
   "nav_menu": {},
   "number_sections": true,
   "sideBar": true,
   "skip_h1_title": true,
   "title_cell": "Table of Contents",
   "title_sidebar": "Contents",
   "toc_cell": false,
   "toc_position": {},
   "toc_section_display": true,
   "toc_window_display": false
  }
 },
 "nbformat": 4,
 "nbformat_minor": 2
}
